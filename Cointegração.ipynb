{
  "nbformat": 4,
  "nbformat_minor": 0,
  "metadata": {
    "colab": {
      "name": "Cointegração.ipynb",
      "provenance": [],
      "authorship_tag": "ABX9TyOkmuNCZzSs/j8zdEg8wTsR"
    },
    "kernelspec": {
      "name": "python3",
      "display_name": "Python 3"
    },
    "language_info": {
      "name": "python"
    }
  },
  "cells": [
    {
      "cell_type": "code",
      "execution_count": null,
      "metadata": {
        "id": "2A75sCCLyaO4"
      },
      "outputs": [],
      "source": [
        "!pip install python-binance"
      ]
    },
    {
      "cell_type": "code",
      "source": [
        "import pandas as pd\n",
        "import numpy as np\n",
        "import matplotlib.pyplot as plt\n",
        "from binance import Client"
      ],
      "metadata": {
        "id": "SenAjaDiynrb"
      },
      "execution_count": null,
      "outputs": []
    },
    {
      "cell_type": "code",
      "source": [
        "from sklearn.linear_model import LinearRegression\n",
        "from statsmodels.tsa.stattools import adfuller\n",
        " "
      ],
      "metadata": {
        "id": "WqTAZPHryoTb"
      },
      "execution_count": null,
      "outputs": []
    },
    {
      "cell_type": "code",
      "source": [
        "client = Client(\"N1rc9N8fYRn1Oyb9yoKIGwUIf3tUwVBxI5EyhkpC1blxeFG451qoCfMVNO0ES6Kl\", \"DZXKpom2aQ0lL0r9r9vXufvDBsRXV5vkP1L9IxsbQ5wg9CMJLSzJzTMLltQ80Yfo\")"
      ],
      "metadata": {
        "id": "TsoKLIa9MDcS"
      },
      "execution_count": null,
      "outputs": []
    },
    {
      "cell_type": "code",
      "source": [
        "def get_prices(ticker, ticker2, interval, lookback):\n",
        "      dados =  pd.DataFrame(client.get_historical_klines(ticker, interval , lookback +' ago UTC'))\n",
        "      dados = dados.iloc[:,:6]\n",
        "      dados.columns = ['Time','Open','High','Low',f'{ticker}Close','Volume']\n",
        "      dados = dados.set_index('Time')\n",
        "      dados.index = pd.to_datetime(dados.index, unit='ms')\n",
        "      dados = dados.astype(float)\n",
        "\n",
        "      dados2 =  pd.DataFrame(client.get_historical_klines(ticker2, interval , lookback +' ago UTC'))\n",
        "      dados2 = dados.iloc[:,:6]\n",
        "      dados2.columns = ['Time','Open','High','Low','Close','Volume']\n",
        "      dados2 = dados.set_index('Time')\n",
        "      dados2.index = pd.to_datetime(dados.index, unit='ms')\n",
        "      dados2 = dados.astype(float)\n",
        "\n",
        "      closeisolated = dados[f'{ticker}Close']\n",
        "      closeisolated2 = dados2['Close']\n",
        "      final = pd.merge(closeisolated, closeisolated2, how = 'left', on = 'Time')\n",
        "      return final"
      ],
      "metadata": {
        "id": "a98Yz7jNysSj"
      },
      "execution_count": null,
      "outputs": []
    },
    {
      "cell_type": "code",
      "source": [
        "df = get_prices('BTCUSDT','BTCUSDT', '1d', '300 days')\n",
        "\n",
        "mean_BTC = df['BTCUSDT'].mean()\n",
        "mean_ETH = df['ETHUSDT'].mean()\n",
        "df.plot()\n",
        "plt.axhline(y=mean_BTC, color='#49ce8b', linestyle='--', linewidth=0.5)\n",
        "plt.axhline(y=mean_ETH, color='#033660', linestyle='--', linewidth=0.5)\n",
        "plt.title(\"BTC & ETH\")\n"
      ],
      "metadata": {
        "id": "MJBzZnDBLxv-"
      },
      "execution_count": null,
      "outputs": []
    },
    {
      "cell_type": "code",
      "source": [
        "plt.scatter(df['BTCUSDTClose'], df['ETHUSDTClose'], s=5)\n",
        "plt.xlabel(\"BTCUSDT\")\n",
        "plt.ylabel(\"ETHUSDT\")\n",
        "plt.show()"
      ],
      "metadata": {
        "colab": {
          "base_uri": "https://localhost:8080/",
          "height": 279
        },
        "id": "pYn2JYfEL_9a",
        "outputId": "05685f95-78b0-4fcd-f647-c90a0474d738"
      },
      "execution_count": null,
      "outputs": [
        {
          "output_type": "display_data",
          "data": {
            "image/png": "[encoded data removed]",
            "text/plain": [
              "<Figure size 432x288 with 1 Axes>"
            ]
          },
          "metadata": {
            "needs_background": "light"
          }
        }
      ]
    },
    {
      "cell_type": "code",
      "source": [
        "# Linear regression\n",
        "\n",
        "# values converted into a numpy array\n",
        "X_independent = df.iloc[:,1].values.reshape(-1, 1)\n",
        "Y_dependent = df.iloc[:,0].values.reshape(-1, 1) \n",
        "\n",
        "reg = LinearRegression().fit(X_independent, Y_dependent)\n",
        "\n",
        "# get beta (angular coef of the linear regression)\n",
        "beta = reg.coef_;\n",
        "print('beta = %f' % beta)\n",
        "\n",
        "# get b coef from (beta*x + b) of the linear regression)\n",
        "b = reg.intercept_;\n",
        "print('b = %f' % b)\n",
        "\n",
        "# get the estimated Y values given X from the model\n",
        "Y_predict = reg.predict(X_independent);"
      ],
      "metadata": {
        "colab": {
          "base_uri": "https://localhost:8080/"
        },
        "id": "aQVSxrEAYZY3",
        "outputId": "880b62b9-26b9-46da-fd66-027311550723"
      },
      "execution_count": null,
      "outputs": [
        {
          "output_type": "stream",
          "name": "stdout",
          "text": [
            "beta = 8.629289\n",
            "b = 19635.817578\n"
          ]
        }
      ]
    },
    {
      "cell_type": "code",
      "source": [
        "plt.scatter(X_independent, Y_dependent, s=5)\n",
        "\n",
        "plt.plot(X_independent, Y_predict, color=\"red\", label='Exponencial Model')\n",
        "\n",
        "plt.xlabel(\"BTC\")\n",
        "plt.ylabel(\"ETH\")\n",
        "plt.legend()\n",
        "plt.show()"
      ],
      "metadata": {
        "colab": {
          "base_uri": "https://localhost:8080/",
          "height": 279
        },
        "id": "fF5iafvAYlIM",
        "outputId": "e5425c7b-cd29-49a6-fdf2-07a8df00f15e"
      },
      "execution_count": null,
      "outputs": [
        {
          "output_type": "display_data",
          "data": {
            "image/png": "[encoded data removed]",
            "text/plain": [
              "<Figure size 432x288 with 1 Axes>"
            ]
          },
          "metadata": {
            "needs_background": "light"
          }
        }
      ]
    },
    {
      "cell_type": "code",
      "source": [
        "df['Residual'] = Y_dependent - Y_predict\n",
        "df"
      ],
      "metadata": {
        "colab": {
          "base_uri": "https://localhost:8080/",
          "height": 455
        },
        "id": "tpGk8LsrYy5C",
        "outputId": "818df46a-b7dd-489b-83d8-753f5cc45336"
      },
      "execution_count": null,
      "outputs": [
        {
          "output_type": "execute_result",
          "data": {
            "text/html": [
              "\n",
              "  <div id=\"df-b3a780a8-fd49-4937-8a79-04285df0b255\">\n",
              "    <div class=\"colab-df-container\">\n",
              "      <div>\n",
              "<style scoped>\n",
              "    .dataframe tbody tr th:only-of-type {\n",
              "        vertical-align: middle;\n",
              "    }\n",
              "\n",
              "    .dataframe tbody tr th {\n",
              "        vertical-align: top;\n",
              "    }\n",
              "\n",
              "    .dataframe thead th {\n",
              "        text-align: right;\n",
              "    }\n",
              "</style>\n",
              "<table border=\"1\" class=\"dataframe\">\n",
              "  <thead>\n",
              "    <tr style=\"text-align: right;\">\n",
              "      <th></th>\n",
              "      <th>BTCUSDTClose</th>\n",
              "      <th>ETHUSDTClose</th>\n",
              "      <th>Residual</th>\n",
              "    </tr>\n",
              "    <tr>\n",
              "      <th>Time</th>\n",
              "      <th></th>\n",
              "      <th></th>\n",
              "      <th></th>\n",
              "    </tr>\n",
              "  </thead>\n",
              "  <tbody>\n",
              "    <tr>\n",
              "      <th>2021-04-07</th>\n",
              "      <td>55953.45</td>\n",
              "      <td>1963.47</td>\n",
              "      <td>19374.283313</td>\n",
              "    </tr>\n",
              "    <tr>\n",
              "      <th>2021-04-08</th>\n",
              "      <td>58077.52</td>\n",
              "      <td>2080.46</td>\n",
              "      <td>20488.812850</td>\n",
              "    </tr>\n",
              "    <tr>\n",
              "      <th>2021-04-09</th>\n",
              "      <td>58142.54</td>\n",
              "      <td>2066.87</td>\n",
              "      <td>20671.104881</td>\n",
              "    </tr>\n",
              "    <tr>\n",
              "      <th>2021-04-10</th>\n",
              "      <td>59769.13</td>\n",
              "      <td>2133.49</td>\n",
              "      <td>21722.811680</td>\n",
              "    </tr>\n",
              "    <tr>\n",
              "      <th>2021-04-11</th>\n",
              "      <td>60002.43</td>\n",
              "      <td>2151.36</td>\n",
              "      <td>21801.906295</td>\n",
              "    </tr>\n",
              "    <tr>\n",
              "      <th>...</th>\n",
              "      <td>...</td>\n",
              "      <td>...</td>\n",
              "      <td>...</td>\n",
              "    </tr>\n",
              "    <tr>\n",
              "      <th>2022-01-27</th>\n",
              "      <td>37160.10</td>\n",
              "      <td>2424.25</td>\n",
              "      <td>-3395.270247</td>\n",
              "    </tr>\n",
              "    <tr>\n",
              "      <th>2022-01-28</th>\n",
              "      <td>37716.56</td>\n",
              "      <td>2544.99</td>\n",
              "      <td>-3880.710541</td>\n",
              "    </tr>\n",
              "    <tr>\n",
              "      <th>2022-01-29</th>\n",
              "      <td>38166.84</td>\n",
              "      <td>2601.43</td>\n",
              "      <td>-3917.467585</td>\n",
              "    </tr>\n",
              "    <tr>\n",
              "      <th>2022-01-30</th>\n",
              "      <td>37881.76</td>\n",
              "      <td>2601.68</td>\n",
              "      <td>-4204.704907</td>\n",
              "    </tr>\n",
              "    <tr>\n",
              "      <th>2022-01-31</th>\n",
              "      <td>38371.67</td>\n",
              "      <td>2675.75</td>\n",
              "      <td>-4353.966307</td>\n",
              "    </tr>\n",
              "  </tbody>\n",
              "</table>\n",
              "<p>300 rows × 3 columns</p>\n",
              "</div>\n",
              "      <button class=\"colab-df-convert\" onclick=\"convertToInteractive('df-b3a780a8-fd49-4937-8a79-04285df0b255')\"\n",
              "              title=\"Convert this dataframe to an interactive table.\"\n",
              "              style=\"display:none;\">\n",
              "        \n",
              "  <svg xmlns=\"http://www.w3.org/2000/svg\" height=\"24px\"viewBox=\"0 0 24 24\"\n",
              "       width=\"24px\">\n",
              "    <path d=\"M0 0h24v24H0V0z\" fill=\"none\"/>\n",
              "    <path d=\"M18.56 5.44l.94 2.06.94-2.06 2.06-.94-2.06-.94-.94-2.06-.94 2.06-2.06.94zm-11 1L8.5 8.5l.94-2.06 2.06-.94-2.06-.94L8.5 2.5l-.94 2.06-2.06.94zm10 10l.94 2.06.94-2.06 2.06-.94-2.06-.94-.94-2.06-.94 2.06-2.06.94z\"/><path d=\"M17.41 7.96l-1.37-1.37c-.4-.4-.92-.59-1.43-.59-.52 0-1.04.2-1.43.59L10.3 9.45l-7.72 7.72c-.78.78-.78 2.05 0 2.83L4 21.41c.39.39.9.59 1.41.59.51 0 1.02-.2 1.41-.59l7.78-7.78 2.81-2.81c.8-.78.8-2.07 0-2.86zM5.41 20L4 18.59l7.72-7.72 1.47 1.35L5.41 20z\"/>\n",
              "  </svg>\n",
              "      </button>\n",
              "      \n",
              "  <style>\n",
              "    .colab-df-container {\n",
              "      display:flex;\n",
              "      flex-wrap:wrap;\n",
              "      gap: 12px;\n",
              "    }\n",
              "\n",
              "    .colab-df-convert {\n",
              "      background-color: #E8F0FE;\n",
              "      border: none;\n",
              "      border-radius: 50%;\n",
              "      cursor: pointer;\n",
              "      display: none;\n",
              "      fill: #1967D2;\n",
              "      height: 32px;\n",
              "      padding: 0 0 0 0;\n",
              "      width: 32px;\n",
              "    }\n",
              "\n",
              "    .colab-df-convert:hover {\n",
              "      background-color: #E2EBFA;\n",
              "      box-shadow: 0px 1px 2px rgba(60, 64, 67, 0.3), 0px 1px 3px 1px rgba(60, 64, 67, 0.15);\n",
              "      fill: #174EA6;\n",
              "    }\n",
              "\n",
              "    [theme=dark] .colab-df-convert {\n",
              "      background-color: #3B4455;\n",
              "      fill: #D2E3FC;\n",
              "    }\n",
              "\n",
              "    [theme=dark] .colab-df-convert:hover {\n",
              "      background-color: #434B5C;\n",
              "      box-shadow: 0px 1px 3px 1px rgba(0, 0, 0, 0.15);\n",
              "      filter: drop-shadow(0px 1px 2px rgba(0, 0, 0, 0.3));\n",
              "      fill: #FFFFFF;\n",
              "    }\n",
              "  </style>\n",
              "\n",
              "      <script>\n",
              "        const buttonEl =\n",
              "          document.querySelector('#df-b3a780a8-fd49-4937-8a79-04285df0b255 button.colab-df-convert');\n",
              "        buttonEl.style.display =\n",
              "          google.colab.kernel.accessAllowed ? 'block' : 'none';\n",
              "\n",
              "        async function convertToInteractive(key) {\n",
              "          const element = document.querySelector('#df-b3a780a8-fd49-4937-8a79-04285df0b255');\n",
              "          const dataTable =\n",
              "            await google.colab.kernel.invokeFunction('convertToInteractive',\n",
              "                                                     [key], {});\n",
              "          if (!dataTable) return;\n",
              "\n",
              "          const docLinkHtml = 'Like what you see? Visit the ' +\n",
              "            '<a target=\"_blank\" href=https://colab.research.google.com/notebooks/data_table.ipynb>data table notebook</a>'\n",
              "            + ' to learn more about interactive tables.';\n",
              "          element.innerHTML = '';\n",
              "          dataTable['output_type'] = 'display_data';\n",
              "          await google.colab.output.renderOutput(dataTable, element);\n",
              "          const docLink = document.createElement('div');\n",
              "          docLink.innerHTML = docLinkHtml;\n",
              "          element.appendChild(docLink);\n",
              "        }\n",
              "      </script>\n",
              "    </div>\n",
              "  </div>\n",
              "  "
            ],
            "text/plain": [
              "            BTCUSDTClose  ETHUSDTClose      Residual\n",
              "Time                                                \n",
              "2021-04-07      55953.45       1963.47  19374.283313\n",
              "2021-04-08      58077.52       2080.46  20488.812850\n",
              "2021-04-09      58142.54       2066.87  20671.104881\n",
              "2021-04-10      59769.13       2133.49  21722.811680\n",
              "2021-04-11      60002.43       2151.36  21801.906295\n",
              "...                  ...           ...           ...\n",
              "2022-01-27      37160.10       2424.25  -3395.270247\n",
              "2022-01-28      37716.56       2544.99  -3880.710541\n",
              "2022-01-29      38166.84       2601.43  -3917.467585\n",
              "2022-01-30      37881.76       2601.68  -4204.704907\n",
              "2022-01-31      38371.67       2675.75  -4353.966307\n",
              "\n",
              "[300 rows x 3 columns]"
            ]
          },
          "metadata": {},
          "execution_count": 90
        }
      ]
    },
    {
      "cell_type": "code",
      "source": [
        "mean = df['Residual'].mean()\n",
        "std  = df['Residual'].std()\n",
        "    \n",
        "k = 2  # Factor to shift the standard deviation \n",
        "up   = mean + std * k\n",
        "down = mean - std * k\n",
        "\n",
        "plt.title(\"Residual\")\n",
        "\n",
        "df['Residual'].plot(x=\"Major\", y=\"\", label='_nolegend_')\n",
        "\n",
        "plt.axhline(y=mean, color='y', linestyle='--', linewidth=1, label='Mean')\n",
        "plt.axhline(y=up,   color='b', linestyle='--', linewidth=1, label=f'+/-{k} STD')\n",
        "plt.axhline(y=down, color='b', linestyle='--', linewidth=1, label='_nolegend_')\n",
        "\n",
        "plt.legend(loc='upper right',ncol=2)"
      ],
      "metadata": {
        "colab": {
          "base_uri": "https://localhost:8080/",
          "height": 324
        },
        "id": "0R70nmMRYzqz",
        "outputId": "4da5d1e2-173a-4bf4-ef0c-69b6847a9c28"
      },
      "execution_count": null,
      "outputs": [
        {
          "output_type": "execute_result",
          "data": {
            "text/plain": [
              "<matplotlib.legend.Legend at 0x7f32454e9150>"
            ]
          },
          "metadata": {},
          "execution_count": 91
        },
        {
          "output_type": "display_data",
          "data": {
            "image/png": "[encoded data removed]",
            "text/plain": [
              "<Figure size 432x288 with 1 Axes>"
            ]
          },
          "metadata": {
            "needs_background": "light"
          }
        }
      ]
    },
    {
      "cell_type": "code",
      "source": [
        "split = int(len(df.Residual) / 2)\n",
        "S1, S2 = df.Residual[0:split], df.Residual[split:]\n",
        "mean1, mean2 = S1.mean(), S2.mean()\n",
        "var1, var2 = S1.var(), S2.var()\n",
        "print('mean1=%f, mean2=%f' % (mean1, mean2))\n",
        "print('variance1=%f, variance2=%f' % (var1, var2))"
      ],
      "metadata": {
        "colab": {
          "base_uri": "https://localhost:8080/"
        },
        "id": "gnxEMe9IY_7H",
        "outputId": "e65521a6-fa56-4201-a1cf-2fa015657e1a"
      },
      "execution_count": null,
      "outputs": [
        {
          "output_type": "stream",
          "name": "stdout",
          "text": [
            "mean1=888.254438, mean2=-888.254438\n",
            "variance1=62943495.943186, variance2=21920701.495304\n"
          ]
        }
      ]
    },
    {
      "cell_type": "code",
      "source": [
        "test_series = adfuller(df['Residual'])\n",
        "print('ADF Statistic: %f' % test_series[0])\n",
        "print('p-value: %f' % test_series[1])\n",
        "print('Critical values:')\n",
        "for key, value in test_series[4].items():\n",
        "\tprint('\\t%s: %.3f' % (key, value))\n",
        "confidence = 1 - test_series[1]\n",
        "print(f'Confidence: {confidence:.2%}') "
      ],
      "metadata": {
        "colab": {
          "base_uri": "https://localhost:8080/"
        },
        "id": "HOBZUJSwaH1N",
        "outputId": "2eb0fe28-8e07-457d-9927-5fde2f0b432a"
      },
      "execution_count": null,
      "outputs": [
        {
          "output_type": "stream",
          "name": "stdout",
          "text": [
            "ADF Statistic: -2.914730\n",
            "p-value: 0.043662\n",
            "Critical values:\n",
            "\t1%: -3.452\n",
            "\t5%: -2.871\n",
            "\t10%: -2.572\n",
            "Confidence: 95.63%\n"
          ]
        }
      ]
    },
    {
      "cell_type": "code",
      "source": [
        ""
      ],
      "metadata": {
        "id": "fdFN7-KXaIgl"
      },
      "execution_count": null,
      "outputs": []
    }
  ]
}
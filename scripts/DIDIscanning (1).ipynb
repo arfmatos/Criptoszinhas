{
  "cells": [
    {
      "cell_type": "code",
      "execution_count": null,
      "metadata": {
        "id": "oPaf2Wcfi2zx"
      },
      "outputs": [],
      "source": [
        "!pip install python-binance\n",
        "!pip install talib-binary\n",
        "!pip install ta "
      ]
    },
    {
      "cell_type": "code",
      "execution_count": null,
      "metadata": {
        "id": "3LxFfP1TlM3a"
      },
      "outputs": [],
      "source": [
        "import pandas as pd\n",
        "import time\n",
        "from binance import BinanceSocketManager,Client\n",
        "import numpy\n",
        "from pandas.core import frame\n",
        "import nest_asyncio\n",
        "import talib as ta\n",
        "import sys"
      ]
    },
    {
      "cell_type": "code",
      "execution_count": null,
      "metadata": {
        "id": "qR0MJAUk5AiH"
      },
      "outputs": [],
      "source": [
        "#entrada na API\n",
        "client = Client(\"N1rc9N8fYRn1Oyb9yoKIGwUIf3tUwVBxI5EyhkpC1blxeFG451qoCfMVNO0ES6Kl\", \"DZXKpom2aQ0lL0r9r9vXufvDBsRXV5vkP1L9IxsbQ5wg9CMJLSzJzTMLltQ80Yfo\")"
      ]
    },
    {
      "cell_type": "code",
      "execution_count": null,
      "metadata": {
        "id": "K1vUpVjXmKnz"
      },
      "outputs": [],
      "source": [
        "#pega dados da binance \n",
        "def get_minute_data(ticker, interval, lookback):\n",
        "      dados =  pd.DataFrame(client.get_historical_klines(ticker, interval , lookback +' ago UTC'))\n",
        "      dados = dados.iloc[:,:6]\n",
        "      dados.columns = ['Time','Open','High','Low','Close','Volume']\n",
        "      dados = dados.set_index('Time')\n",
        "      dados.index = pd.to_datetime(dados.index, unit='ms')\n",
        "      dados = dados.astype(float)\n",
        "    \n",
        "      return dados"
      ]
    },
    {
      "cell_type": "code",
      "execution_count": null,
      "metadata": {
        "id": "lq-Tnq6ZPUZl"
      },
      "outputs": [],
      "source": [
        "from ta.trend import ADXIndicator\n"
      ]
    },
    {
      "cell_type": "code",
      "execution_count": null,
      "metadata": {
        "id": "7hMHU166OLmG"
      },
      "outputs": [],
      "source": [
        "#calcula adx\n",
        "def get_adx(dados):\n",
        "  adxI = ADXIndicator(dados['High'],dados['Low'],dados['Close'],8,False)\n",
        "  dados['pos_directional_indicator'] = adxI.adx_pos()\n",
        "  dados['neg_directional_indicator'] = adxI.adx_neg()\n",
        "  dados['adx'] = adxI.adx()\n",
        "  \n",
        "  return dados\n",
        "\n"
      ]
    },
    {
      "cell_type": "code",
      "execution_count": null,
      "metadata": {
        "id": "GRv5kfKZmLJs"
      },
      "outputs": [],
      "source": [
        "#calcula as medias e verifica a agulhada\n",
        "def mediasdidi(dados, tempo, ticker):\n",
        "    sma20 = ta.SMA(dados['Close'], timeperiod= 20)\n",
        "    sma8 = ta.SMA(dados['Close'], timeperiod = 8)\n",
        "    sma3 = ta.SMA(dados['Close'], timeperiod= 3)\n",
        "    situacao = '0'\n",
        "    if (sma3[-1] > sma8[-1] and sma3[-1] > dados.Open[-1] and sma3[-1] < dados.Close[-1]) and (sma8[-1] > sma20[-1] and sma8[-1] > dados.Open[-1] and sma8[-1] < dados.Close[-1]) and (sma20[-1] > dados.Open[-1] and sma20[-1] < dados.Close[-1]):\n",
        "      get_adx(dados)\n",
        "      if dados['adx'][-1] > 25:\n",
        "        print(f'possivel agulhada de compra no timeframe de {tempo} em {ticker} ADX >25')\n",
        "      else:\n",
        "        print(f'possivel agulhada de compra timeframe de {tempo} em {ticker} porém ADX < 25')\n",
        "    elif (sma3[-1] < sma8[-1] and sma3[-1] < dados.Open[-1] and sma3[-1] > dados.Close[-1]) and (sma8[-1] < sma20[-1] and sma8[-1] < dados.Open[-1] and sma8[-1] > dados.Close[-1]) and (sma20[-1] < dados.Open[-1] and sma20[-1] > dados.Close[-1]):\n",
        "      get_adx(dados)\n",
        "      if dados['adx'][-1] > 25:\n",
        "        print(f'possivel agulhada de venda no timeframe de {tempo} em {ticker} ADX > 25')\n",
        "      else:\n",
        "        print(f'possivel agulhada de venda timeframe de {tempo} em {ticker} porém ADX < 25')\n",
        "    "
      ]
    },
    {
      "cell_type": "code",
      "execution_count": null,
      "metadata": {
        "id": "FI-hAt_N3woI"
      },
      "outputs": [],
      "source": [
        "\n",
        "#lista de ativos\n",
        "lista = ['BTCUSDT','VGXUSDT','WINUSDT','XECUSDT','YFIUSDT','SOLUSDT', 'ETHUSDT', 'BNBUSDT','COTIUSDT','ALICEUSDT','ANYUSDT','AVAXUSDT','CAKEUSDT',\n",
        "         'CKBUSDT','CRVUSDT','MINAUSDT','MDTUSDT','KP3RUSDT','AAVEUSDT','AMPUSDT','ARUSDT','SUSHIUSDT','SCRTUSDT','REEFUSDT','MBOXUSDT','LUNAUSDT',\n",
        "         'NEOUSDT','UNIUSDT', 'LTCUSDT', 'QTUMUSDT', 'ADAUSDT', 'XRPUSDT', 'EOSUSDT', 'IOTAUSDT', 'XLMUSDT', 'ONTUSDT', 'TRXUSDT', 'ETCUSDT', 'BNTUSDT','NEARUSDT','DYDXUSDT',\n",
        "         'ICXUSDT', 'NULSUSDT', 'VETUSDT', 'LINKUSDT', 'ONGUSDT', 'HOTUSDT', 'ZILUSDT', 'ZRXUSDT', 'FETUSDT', 'DOTUSDT','EGLDUSDT','FILUSDT','FLOWUSDT','GALAUSDT','GRTUSDT',\n",
        "         'BATUSDT', 'XMRUSDT', 'ZECUSDT', 'CELRUSDT','DASHUSDT', 'OMGUSDT', 'THETAUSDT', 'ENJUSDT', 'MATICUSDT', 'ATOMUSDT','CELOUSDT','TFUELUSDT', 'ONEUSDT', 'FTMUSDT', 'ALGOUSDT',  'DOGEUSDT', 'ANKRUSDT','COMPUSDT','TOMOUSDT', 'PERLUSDT', 'DENTUSDT', 'MFTUSDT', 'KEYUSDT', 'DOCKUSDT',  'CHZUSDT', 'BANDUSDT', 'BEAMUSDT', 'XTZUSDT', 'RVNUSDT',\n",
        "         'HBARUSDT','STXUSDT', 'KAVAUSDT', 'ARPAUSDT', 'IOTXUSDT', 'RLCUSDT', 'BCHUSDT', 'FTTUSDT', 'OGNUSDT','WAVESUSDT','ZENUSDT']\n",
        "\n"
      ]
    },
    {
      "cell_type": "code",
      "execution_count": null,
      "metadata": {
        "id": "yjVlfHMaIIw1"
      },
      "outputs": [],
      "source": [
        "lista2 =  ['OMGUSDT', 'THETAUSDT', 'ENJUSDT', 'MATICUSDT', 'ATOMUSDT','CELOUSDT','TFUELUSDT', 'ONEUSDT', 'FTMUSDT', 'ALGOUSDT',  'DOGEUSDT', 'ANKRUSDT','COMPUSDT','TOMOUSDT', 'PERLUSDT', 'DENTUSDT', 'MFTUSDT', 'KEYUSDT', 'DOCKUSDT',  'CHZUSDT', 'BANDUSDT', 'BEAMUSDT', 'XTZUSDT', 'RVNUSDT',\n",
        "         'HBARUSDT','STXUSDT', 'KAVAUSDT', 'ARPAUSDT', 'IOTXUSDT', 'RLCUSDT', 'BCHUSDT', 'FTTUSDT', 'OGNUSDT','WAVESUSDT','ZENUSDT']\n"
      ]
    },
    {
      "cell_type": "code",
      "execution_count": null,
      "metadata": {
        "id": "obvRMzGp7ogm"
      },
      "outputs": [],
      "source": [
        "def main(asset):\n",
        "  for i in asset:\n",
        "     assetone = i\n",
        "     frame1d = get_minute_data(assetone, '1d','50 days')\n",
        "     frame2h = get_minute_data(assetone, '2h', '100 hours ')\n",
        "     frame1h = get_minute_data(assetone, '1h', '50 hours ')\n",
        "     frame4h = get_minute_data(assetone, '4h', '200 hours')\n",
        "     frame15m = get_minute_data(assetone, '15m' , '500 min')\n",
        "     print(f'analisando {i}')\n",
        "     mediasdidi(frame1d, '1d', i)\n",
        "     time.sleep(2)\n",
        "     mediasdidi(frame1d, '2h', i)\n",
        "     time.sleep(1)\n",
        "     mediasdidi(frame1h,'1h', i)\n",
        "     time.sleep(2)\n",
        "     mediasdidi(frame4h, '4h', i)\n",
        "     time.sleep(1)\n",
        "     mediasdidi(frame15m, '15', i)\n"
      ]
    },
    {
      "cell_type": "code",
      "execution_count": null,
      "metadata": {
        "colab": {
          "background_save": true
        },
        "id": "jjbV1FvxEJLs"
      },
      "outputs": [],
      "source": [
        "#Rodando o scanning\n",
        "while True:\n",
        "    main(lista)\n",
        "    print('reiniciando')\n",
        "    time.sleep(2)"
      ]
    },
    {
      "cell_type": "code",
      "execution_count": null,
      "metadata": {
        "id": "eQKprTv4Rb9d"
      },
      "outputs": [],
      "source": [
        "     assetone = 'BTCUSDT'\n",
        "     i = 'BTCUSDT'\n",
        "     frame1d = get_minute_data(assetone, '1d','50 days')\n",
        "     frame1h = get_minute_data(assetone, '1h', '50 hours ')\n",
        "     frame4h = get_minute_data(assetone, '4h', '200 hours')\n",
        "     frame15m = get_minute_data(assetone, '30m' , '900 min')\n",
        "     pt = get_adx(frame15m)\n",
        "     print(pt)\n",
        "     print(pt['adx'][-1])\n",
        "     print(f'analisando {i}')\n",
        "     mediasdidi(frame1d, '1d', i)\n",
        "     time.sleep(1)\n",
        "     mediasdidi(frame1h,'1h', i)\n",
        "     time.sleep(1)\n",
        "     mediasdidi(frame4h, '4h', i)\n",
        "     time.sleep(5)\n",
        "     mediasdidi(frame15m, '15', i)\n"
      ]
    },
    {
      "cell_type": "code",
      "execution_count": null,
      "metadata": {
        "id": "GrdmQT6vDEw5"
      },
      "outputs": [],
      "source": [
        "  get_adx(dx)\n",
        "\n"
      ]
    },
    {
      "cell_type": "code",
      "execution_count": null,
      "metadata": {
        "id": "tXPjMk8KBzL6"
      },
      "outputs": [],
      "source": [
        "\n"
      ]
    }
  ],
  "metadata": {
    "colab": {
      "collapsed_sections": [],
      "name": "DIDIscanning.ipynb",
      "provenance": []
    },
    "kernelspec": {
      "display_name": "Python 3",
      "name": "python3"
    },
    "language_info": {
      "name": "python"
    }
  },
  "nbformat": 4,
  "nbformat_minor": 0
}